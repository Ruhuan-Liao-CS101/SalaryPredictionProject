{
 "cells": [
  {
   "cell_type": "markdown",
   "id": "509c752c",
   "metadata": {},
   "source": [
    "## Import libraries and load data"
   ]
  },
  {
   "cell_type": "code",
   "execution_count": 44,
   "id": "16dbf4a8",
   "metadata": {},
   "outputs": [
    {
     "data": {
      "text/html": [
       "<div>\n",
       "<style scoped>\n",
       "    .dataframe tbody tr th:only-of-type {\n",
       "        vertical-align: middle;\n",
       "    }\n",
       "\n",
       "    .dataframe tbody tr th {\n",
       "        vertical-align: top;\n",
       "    }\n",
       "\n",
       "    .dataframe thead th {\n",
       "        text-align: right;\n",
       "    }\n",
       "</style>\n",
       "<table border=\"1\" class=\"dataframe\">\n",
       "  <thead>\n",
       "    <tr style=\"text-align: right;\">\n",
       "      <th></th>\n",
       "      <th>Age</th>\n",
       "      <th>Gender</th>\n",
       "      <th>Education Level</th>\n",
       "      <th>Job Title</th>\n",
       "      <th>Years of Experience</th>\n",
       "      <th>Salary</th>\n",
       "    </tr>\n",
       "  </thead>\n",
       "  <tbody>\n",
       "    <tr>\n",
       "      <th>0</th>\n",
       "      <td>32.0</td>\n",
       "      <td>Male</td>\n",
       "      <td>Bachelor's</td>\n",
       "      <td>Software Engineer</td>\n",
       "      <td>5.0</td>\n",
       "      <td>90000.0</td>\n",
       "    </tr>\n",
       "    <tr>\n",
       "      <th>1</th>\n",
       "      <td>28.0</td>\n",
       "      <td>Female</td>\n",
       "      <td>Master's</td>\n",
       "      <td>Data Analyst</td>\n",
       "      <td>3.0</td>\n",
       "      <td>65000.0</td>\n",
       "    </tr>\n",
       "    <tr>\n",
       "      <th>2</th>\n",
       "      <td>45.0</td>\n",
       "      <td>Male</td>\n",
       "      <td>PhD</td>\n",
       "      <td>Senior Manager</td>\n",
       "      <td>15.0</td>\n",
       "      <td>150000.0</td>\n",
       "    </tr>\n",
       "    <tr>\n",
       "      <th>3</th>\n",
       "      <td>36.0</td>\n",
       "      <td>Female</td>\n",
       "      <td>Bachelor's</td>\n",
       "      <td>Sales Associate</td>\n",
       "      <td>7.0</td>\n",
       "      <td>60000.0</td>\n",
       "    </tr>\n",
       "    <tr>\n",
       "      <th>4</th>\n",
       "      <td>52.0</td>\n",
       "      <td>Male</td>\n",
       "      <td>Master's</td>\n",
       "      <td>Director</td>\n",
       "      <td>20.0</td>\n",
       "      <td>200000.0</td>\n",
       "    </tr>\n",
       "    <tr>\n",
       "      <th>...</th>\n",
       "      <td>...</td>\n",
       "      <td>...</td>\n",
       "      <td>...</td>\n",
       "      <td>...</td>\n",
       "      <td>...</td>\n",
       "      <td>...</td>\n",
       "    </tr>\n",
       "    <tr>\n",
       "      <th>6699</th>\n",
       "      <td>49.0</td>\n",
       "      <td>Female</td>\n",
       "      <td>PhD</td>\n",
       "      <td>Director of Marketing</td>\n",
       "      <td>20.0</td>\n",
       "      <td>200000.0</td>\n",
       "    </tr>\n",
       "    <tr>\n",
       "      <th>6700</th>\n",
       "      <td>32.0</td>\n",
       "      <td>Male</td>\n",
       "      <td>High School</td>\n",
       "      <td>Sales Associate</td>\n",
       "      <td>3.0</td>\n",
       "      <td>50000.0</td>\n",
       "    </tr>\n",
       "    <tr>\n",
       "      <th>6701</th>\n",
       "      <td>30.0</td>\n",
       "      <td>Female</td>\n",
       "      <td>Bachelor's Degree</td>\n",
       "      <td>Financial Manager</td>\n",
       "      <td>4.0</td>\n",
       "      <td>55000.0</td>\n",
       "    </tr>\n",
       "    <tr>\n",
       "      <th>6702</th>\n",
       "      <td>46.0</td>\n",
       "      <td>Male</td>\n",
       "      <td>Master's Degree</td>\n",
       "      <td>Marketing Manager</td>\n",
       "      <td>14.0</td>\n",
       "      <td>140000.0</td>\n",
       "    </tr>\n",
       "    <tr>\n",
       "      <th>6703</th>\n",
       "      <td>26.0</td>\n",
       "      <td>Female</td>\n",
       "      <td>High School</td>\n",
       "      <td>Sales Executive</td>\n",
       "      <td>1.0</td>\n",
       "      <td>35000.0</td>\n",
       "    </tr>\n",
       "  </tbody>\n",
       "</table>\n",
       "<p>6704 rows × 6 columns</p>\n",
       "</div>"
      ],
      "text/plain": [
       "       Age  Gender    Education Level              Job Title  \\\n",
       "0     32.0    Male         Bachelor's      Software Engineer   \n",
       "1     28.0  Female           Master's           Data Analyst   \n",
       "2     45.0    Male                PhD         Senior Manager   \n",
       "3     36.0  Female         Bachelor's        Sales Associate   \n",
       "4     52.0    Male           Master's               Director   \n",
       "...    ...     ...                ...                    ...   \n",
       "6699  49.0  Female                PhD  Director of Marketing   \n",
       "6700  32.0    Male        High School        Sales Associate   \n",
       "6701  30.0  Female  Bachelor's Degree      Financial Manager   \n",
       "6702  46.0    Male    Master's Degree      Marketing Manager   \n",
       "6703  26.0  Female        High School        Sales Executive   \n",
       "\n",
       "      Years of Experience    Salary  \n",
       "0                     5.0   90000.0  \n",
       "1                     3.0   65000.0  \n",
       "2                    15.0  150000.0  \n",
       "3                     7.0   60000.0  \n",
       "4                    20.0  200000.0  \n",
       "...                   ...       ...  \n",
       "6699                 20.0  200000.0  \n",
       "6700                  3.0   50000.0  \n",
       "6701                  4.0   55000.0  \n",
       "6702                 14.0  140000.0  \n",
       "6703                  1.0   35000.0  \n",
       "\n",
       "[6704 rows x 6 columns]"
      ]
     },
     "execution_count": 44,
     "metadata": {},
     "output_type": "execute_result"
    }
   ],
   "source": [
    "import pandas as pd\n",
    "from sklearn.model_selection import train_test_split\n",
    "from sklearn.preprocessing import StandardScaler, LabelEncoder, OneHotEncoder\n",
    "from sklearn.compose import ColumnTransformer\n",
    "from sklearn.ensemble import RandomForestRegressor\n",
    "from sklearn.impute import SimpleImputer\n",
    "from sklearn.metrics import mean_squared_error, mean_absolute_error, r2_score\n",
    "from sklearn.linear_model import LogisticRegression\n",
    "import joblib\n",
    "dataset = pd.read_csv('Salary_Data.csv')\n",
    "# load dataset\n",
    "dataset"
   ]
  },
  {
   "cell_type": "markdown",
   "id": "0eb1d1bf",
   "metadata": {},
   "source": [
    "## Check null values in each column"
   ]
  },
  {
   "cell_type": "code",
   "execution_count": 45,
   "id": "c9a2e0e6",
   "metadata": {},
   "outputs": [
    {
     "data": {
      "text/plain": [
       "Age                    2\n",
       "Gender                 2\n",
       "Education Level        3\n",
       "Job Title              2\n",
       "Years of Experience    3\n",
       "Salary                 5\n",
       "dtype: int64"
      ]
     },
     "execution_count": 45,
     "metadata": {},
     "output_type": "execute_result"
    }
   ],
   "source": [
    "dataset.isnull().sum()"
   ]
  },
  {
   "cell_type": "markdown",
   "id": "f81fdf42",
   "metadata": {},
   "source": [
    "## Fill the null values"
   ]
  },
  {
   "cell_type": "code",
   "execution_count": 46,
   "id": "ad04a62a",
   "metadata": {},
   "outputs": [],
   "source": [
    "# Handling missing values\n",
    "dataset['Age'].fillna(dataset['Age'].mean(), inplace=True)\n",
    "dataset['Gender'].fillna(dataset['Gender'].mode()[0], inplace=True)\n",
    "dataset['Education Level'].fillna('Unknown', inplace=True) \n",
    "dataset['Job Title'].fillna('Unknown', inplace=True)\n",
    "dataset['Years of Experience'].fillna(dataset['Years of Experience'].mean(), inplace=True)\n",
    "dataset['Salary'].fillna(dataset['Salary'].mean(), inplace=True)"
   ]
  },
  {
   "cell_type": "markdown",
   "id": "b250e62b",
   "metadata": {},
   "source": [
    "## Check null values in each column again"
   ]
  },
  {
   "cell_type": "code",
   "execution_count": 47,
   "id": "0af6f617",
   "metadata": {},
   "outputs": [
    {
     "data": {
      "text/plain": [
       "Age                    0\n",
       "Gender                 0\n",
       "Education Level        0\n",
       "Job Title              0\n",
       "Years of Experience    0\n",
       "Salary                 0\n",
       "dtype: int64"
      ]
     },
     "execution_count": 47,
     "metadata": {},
     "output_type": "execute_result"
    }
   ],
   "source": [
    "dataset.isnull().sum()"
   ]
  },
  {
   "cell_type": "markdown",
   "id": "e4772143",
   "metadata": {},
   "source": [
    "## Shape dataset"
   ]
  },
  {
   "cell_type": "code",
   "execution_count": 48,
   "id": "fe5bc3c4",
   "metadata": {},
   "outputs": [
    {
     "data": {
      "text/plain": [
       "(6704, 6)"
      ]
     },
     "execution_count": 48,
     "metadata": {},
     "output_type": "execute_result"
    }
   ],
   "source": [
    "dataset.shape"
   ]
  },
  {
   "cell_type": "markdown",
   "id": "f74b1e07",
   "metadata": {},
   "source": [
    "## Apply Label"
   ]
  },
  {
   "cell_type": "code",
   "execution_count": 49,
   "id": "db691d23",
   "metadata": {},
   "outputs": [
    {
     "data": {
      "text/html": [
       "<div>\n",
       "<style scoped>\n",
       "    .dataframe tbody tr th:only-of-type {\n",
       "        vertical-align: middle;\n",
       "    }\n",
       "\n",
       "    .dataframe tbody tr th {\n",
       "        vertical-align: top;\n",
       "    }\n",
       "\n",
       "    .dataframe thead th {\n",
       "        text-align: right;\n",
       "    }\n",
       "</style>\n",
       "<table border=\"1\" class=\"dataframe\">\n",
       "  <thead>\n",
       "    <tr style=\"text-align: right;\">\n",
       "      <th></th>\n",
       "      <th>Age</th>\n",
       "      <th>Gender</th>\n",
       "      <th>Education Level</th>\n",
       "      <th>Job Title</th>\n",
       "      <th>Years of Experience</th>\n",
       "      <th>Salary</th>\n",
       "    </tr>\n",
       "  </thead>\n",
       "  <tbody>\n",
       "    <tr>\n",
       "      <th>0</th>\n",
       "      <td>32.0</td>\n",
       "      <td>1</td>\n",
       "      <td>0</td>\n",
       "      <td>177</td>\n",
       "      <td>5.0</td>\n",
       "      <td>90000.0</td>\n",
       "    </tr>\n",
       "    <tr>\n",
       "      <th>1</th>\n",
       "      <td>28.0</td>\n",
       "      <td>0</td>\n",
       "      <td>3</td>\n",
       "      <td>18</td>\n",
       "      <td>3.0</td>\n",
       "      <td>65000.0</td>\n",
       "    </tr>\n",
       "    <tr>\n",
       "      <th>2</th>\n",
       "      <td>45.0</td>\n",
       "      <td>1</td>\n",
       "      <td>5</td>\n",
       "      <td>145</td>\n",
       "      <td>15.0</td>\n",
       "      <td>150000.0</td>\n",
       "    </tr>\n",
       "    <tr>\n",
       "      <th>3</th>\n",
       "      <td>36.0</td>\n",
       "      <td>0</td>\n",
       "      <td>0</td>\n",
       "      <td>116</td>\n",
       "      <td>7.0</td>\n",
       "      <td>60000.0</td>\n",
       "    </tr>\n",
       "    <tr>\n",
       "      <th>4</th>\n",
       "      <td>52.0</td>\n",
       "      <td>1</td>\n",
       "      <td>3</td>\n",
       "      <td>26</td>\n",
       "      <td>20.0</td>\n",
       "      <td>200000.0</td>\n",
       "    </tr>\n",
       "    <tr>\n",
       "      <th>...</th>\n",
       "      <td>...</td>\n",
       "      <td>...</td>\n",
       "      <td>...</td>\n",
       "      <td>...</td>\n",
       "      <td>...</td>\n",
       "      <td>...</td>\n",
       "    </tr>\n",
       "    <tr>\n",
       "      <th>6699</th>\n",
       "      <td>49.0</td>\n",
       "      <td>0</td>\n",
       "      <td>5</td>\n",
       "      <td>34</td>\n",
       "      <td>20.0</td>\n",
       "      <td>200000.0</td>\n",
       "    </tr>\n",
       "    <tr>\n",
       "      <th>6700</th>\n",
       "      <td>32.0</td>\n",
       "      <td>1</td>\n",
       "      <td>2</td>\n",
       "      <td>116</td>\n",
       "      <td>3.0</td>\n",
       "      <td>50000.0</td>\n",
       "    </tr>\n",
       "    <tr>\n",
       "      <th>6701</th>\n",
       "      <td>30.0</td>\n",
       "      <td>0</td>\n",
       "      <td>1</td>\n",
       "      <td>42</td>\n",
       "      <td>4.0</td>\n",
       "      <td>55000.0</td>\n",
       "    </tr>\n",
       "    <tr>\n",
       "      <th>6702</th>\n",
       "      <td>46.0</td>\n",
       "      <td>1</td>\n",
       "      <td>4</td>\n",
       "      <td>97</td>\n",
       "      <td>14.0</td>\n",
       "      <td>140000.0</td>\n",
       "    </tr>\n",
       "    <tr>\n",
       "      <th>6703</th>\n",
       "      <td>26.0</td>\n",
       "      <td>0</td>\n",
       "      <td>2</td>\n",
       "      <td>118</td>\n",
       "      <td>1.0</td>\n",
       "      <td>35000.0</td>\n",
       "    </tr>\n",
       "  </tbody>\n",
       "</table>\n",
       "<p>6704 rows × 6 columns</p>\n",
       "</div>"
      ],
      "text/plain": [
       "       Age  Gender  Education Level  Job Title  Years of Experience    Salary\n",
       "0     32.0       1                0        177                  5.0   90000.0\n",
       "1     28.0       0                3         18                  3.0   65000.0\n",
       "2     45.0       1                5        145                 15.0  150000.0\n",
       "3     36.0       0                0        116                  7.0   60000.0\n",
       "4     52.0       1                3         26                 20.0  200000.0\n",
       "...    ...     ...              ...        ...                  ...       ...\n",
       "6699  49.0       0                5         34                 20.0  200000.0\n",
       "6700  32.0       1                2        116                  3.0   50000.0\n",
       "6701  30.0       0                1         42                  4.0   55000.0\n",
       "6702  46.0       1                4         97                 14.0  140000.0\n",
       "6703  26.0       0                2        118                  1.0   35000.0\n",
       "\n",
       "[6704 rows x 6 columns]"
      ]
     },
     "execution_count": 49,
     "metadata": {},
     "output_type": "execute_result"
    }
   ],
   "source": [
    "# Dictionaries to store mappings\n",
    "gender_mapping = {}\n",
    "education_mapping = {}\n",
    "job_title_mapping = {}\n",
    "\n",
    "# Creating a LabelEncoder object\n",
    "lb_make = LabelEncoder()\n",
    "\n",
    "# List of categorical columns to be transformed\n",
    "categorical_cols = [\"Gender\", \"Education Level\", \"Job Title\"]\n",
    "\n",
    "# Applying LabelEncoder on train data\n",
    "for col in categorical_cols:\n",
    "    dataset[col] = lb_make.fit_transform(dataset[col])\n",
    "    # Creating mapping dictionaries\n",
    "    mapping = dict(zip(lb_make.classes_, lb_make.transform(lb_make.classes_)))\n",
    "\n",
    "    # Assigning the mapping to respective dictionaries\n",
    "    if col == \"Gender\":\n",
    "        gender_mapping = mapping\n",
    "    elif col == \"Education Level\":\n",
    "        education_mapping = mapping\n",
    "    elif col == \"Job Title\":\n",
    "        job_title_mapping = mapping\n",
    "\n",
    "dataset"
   ]
  },
  {
   "cell_type": "code",
   "execution_count": 28,
   "id": "41142a8e",
   "metadata": {},
   "outputs": [
    {
     "data": {
      "text/plain": [
       "{'Female': 0, 'Male': 1, 'Other': 2}"
      ]
     },
     "execution_count": 28,
     "metadata": {},
     "output_type": "execute_result"
    }
   ],
   "source": [
    "gender_mapping"
   ]
  },
  {
   "cell_type": "code",
   "execution_count": 29,
   "id": "8c9759a2",
   "metadata": {
    "scrolled": true
   },
   "outputs": [
    {
     "data": {
      "text/plain": [
       "{\"Bachelor's\": 0,\n",
       " \"Bachelor's Degree\": 1,\n",
       " 'High School': 2,\n",
       " \"Master's\": 3,\n",
       " \"Master's Degree\": 4,\n",
       " 'PhD': 5,\n",
       " 'Unknown': 6,\n",
       " 'phD': 7}"
      ]
     },
     "execution_count": 29,
     "metadata": {},
     "output_type": "execute_result"
    }
   ],
   "source": [
    "education_mapping"
   ]
  },
  {
   "cell_type": "code",
   "execution_count": 30,
   "id": "4e305668",
   "metadata": {},
   "outputs": [
    {
     "data": {
      "text/plain": [
       "{'Account Manager': 0,\n",
       " 'Accountant': 1,\n",
       " 'Administrative Assistant': 2,\n",
       " 'Back end Developer': 3,\n",
       " 'Business Analyst': 4,\n",
       " 'Business Development Manager': 5,\n",
       " 'Business Intelligence Analyst': 6,\n",
       " 'CEO': 7,\n",
       " 'Chief Data Officer': 8,\n",
       " 'Chief Technology Officer': 9,\n",
       " 'Content Marketing Manager': 10,\n",
       " 'Copywriter': 11,\n",
       " 'Creative Director': 12,\n",
       " 'Customer Service Manager': 13,\n",
       " 'Customer Service Rep': 14,\n",
       " 'Customer Service Representative': 15,\n",
       " 'Customer Success Manager': 16,\n",
       " 'Customer Success Rep': 17,\n",
       " 'Data Analyst': 18,\n",
       " 'Data Entry Clerk': 19,\n",
       " 'Data Scientist': 20,\n",
       " 'Delivery Driver': 21,\n",
       " 'Developer': 22,\n",
       " 'Digital Content Producer': 23,\n",
       " 'Digital Marketing Manager': 24,\n",
       " 'Digital Marketing Specialist': 25,\n",
       " 'Director': 26,\n",
       " 'Director of Business Development': 27,\n",
       " 'Director of Data Science': 28,\n",
       " 'Director of Engineering': 29,\n",
       " 'Director of Finance': 30,\n",
       " 'Director of HR': 31,\n",
       " 'Director of Human Capital': 32,\n",
       " 'Director of Human Resources': 33,\n",
       " 'Director of Marketing': 34,\n",
       " 'Director of Operations': 35,\n",
       " 'Director of Product Management': 36,\n",
       " 'Director of Sales': 37,\n",
       " 'Director of Sales and Marketing': 38,\n",
       " 'Event Coordinator': 39,\n",
       " 'Financial Advisor': 40,\n",
       " 'Financial Analyst': 41,\n",
       " 'Financial Manager': 42,\n",
       " 'Front End Developer': 43,\n",
       " 'Front end Developer': 44,\n",
       " 'Full Stack Engineer': 45,\n",
       " 'Graphic Designer': 46,\n",
       " 'HR Generalist': 47,\n",
       " 'HR Manager': 48,\n",
       " 'Help Desk Analyst': 49,\n",
       " 'Human Resources Coordinator': 50,\n",
       " 'Human Resources Director': 51,\n",
       " 'Human Resources Manager': 52,\n",
       " 'IT Manager': 53,\n",
       " 'IT Support': 54,\n",
       " 'IT Support Specialist': 55,\n",
       " 'Junior Account Manager': 56,\n",
       " 'Junior Accountant': 57,\n",
       " 'Junior Advertising Coordinator': 58,\n",
       " 'Junior Business Analyst': 59,\n",
       " 'Junior Business Development Associate': 60,\n",
       " 'Junior Business Operations Analyst': 61,\n",
       " 'Junior Copywriter': 62,\n",
       " 'Junior Customer Support Specialist': 63,\n",
       " 'Junior Data Analyst': 64,\n",
       " 'Junior Data Scientist': 65,\n",
       " 'Junior Designer': 66,\n",
       " 'Junior Developer': 67,\n",
       " 'Junior Financial Advisor': 68,\n",
       " 'Junior Financial Analyst': 69,\n",
       " 'Junior HR Coordinator': 70,\n",
       " 'Junior HR Generalist': 71,\n",
       " 'Junior Marketing Analyst': 72,\n",
       " 'Junior Marketing Coordinator': 73,\n",
       " 'Junior Marketing Manager': 74,\n",
       " 'Junior Marketing Specialist': 75,\n",
       " 'Junior Operations Analyst': 76,\n",
       " 'Junior Operations Coordinator': 77,\n",
       " 'Junior Operations Manager': 78,\n",
       " 'Junior Product Manager': 79,\n",
       " 'Junior Project Manager': 80,\n",
       " 'Junior Recruiter': 81,\n",
       " 'Junior Research Scientist': 82,\n",
       " 'Junior Sales Associate': 83,\n",
       " 'Junior Sales Representative': 84,\n",
       " 'Junior Social Media Manager': 85,\n",
       " 'Junior Social Media Specialist': 86,\n",
       " 'Junior Software Developer': 87,\n",
       " 'Junior Software Engineer': 88,\n",
       " 'Junior UX Designer': 89,\n",
       " 'Junior Web Designer': 90,\n",
       " 'Junior Web Developer': 91,\n",
       " 'Juniour HR Coordinator': 92,\n",
       " 'Juniour HR Generalist': 93,\n",
       " 'Marketing Analyst': 94,\n",
       " 'Marketing Coordinator': 95,\n",
       " 'Marketing Director': 96,\n",
       " 'Marketing Manager': 97,\n",
       " 'Marketing Specialist': 98,\n",
       " 'Network Engineer': 99,\n",
       " 'Office Manager': 100,\n",
       " 'Operations Analyst': 101,\n",
       " 'Operations Director': 102,\n",
       " 'Operations Manager': 103,\n",
       " 'Principal Engineer': 104,\n",
       " 'Principal Scientist': 105,\n",
       " 'Product Designer': 106,\n",
       " 'Product Manager': 107,\n",
       " 'Product Marketing Manager': 108,\n",
       " 'Project Engineer': 109,\n",
       " 'Project Manager': 110,\n",
       " 'Public Relations Manager': 111,\n",
       " 'Receptionist': 112,\n",
       " 'Recruiter': 113,\n",
       " 'Research Director': 114,\n",
       " 'Research Scientist': 115,\n",
       " 'Sales Associate': 116,\n",
       " 'Sales Director': 117,\n",
       " 'Sales Executive': 118,\n",
       " 'Sales Manager': 119,\n",
       " 'Sales Operations Manager': 120,\n",
       " 'Sales Representative': 121,\n",
       " 'Senior Account Executive': 122,\n",
       " 'Senior Account Manager': 123,\n",
       " 'Senior Accountant': 124,\n",
       " 'Senior Business Analyst': 125,\n",
       " 'Senior Business Development Manager': 126,\n",
       " 'Senior Consultant': 127,\n",
       " 'Senior Data Analyst': 128,\n",
       " 'Senior Data Engineer': 129,\n",
       " 'Senior Data Scientist': 130,\n",
       " 'Senior Engineer': 131,\n",
       " 'Senior Financial Advisor': 132,\n",
       " 'Senior Financial Analyst': 133,\n",
       " 'Senior Financial Manager': 134,\n",
       " 'Senior Graphic Designer': 135,\n",
       " 'Senior HR Generalist': 136,\n",
       " 'Senior HR Manager': 137,\n",
       " 'Senior HR Specialist': 138,\n",
       " 'Senior Human Resources Coordinator': 139,\n",
       " 'Senior Human Resources Manager': 140,\n",
       " 'Senior Human Resources Specialist': 141,\n",
       " 'Senior IT Consultant': 142,\n",
       " 'Senior IT Project Manager': 143,\n",
       " 'Senior IT Support Specialist': 144,\n",
       " 'Senior Manager': 145,\n",
       " 'Senior Marketing Analyst': 146,\n",
       " 'Senior Marketing Coordinator': 147,\n",
       " 'Senior Marketing Director': 148,\n",
       " 'Senior Marketing Manager': 149,\n",
       " 'Senior Marketing Specialist': 150,\n",
       " 'Senior Operations Analyst': 151,\n",
       " 'Senior Operations Coordinator': 152,\n",
       " 'Senior Operations Manager': 153,\n",
       " 'Senior Product Designer': 154,\n",
       " 'Senior Product Development Manager': 155,\n",
       " 'Senior Product Manager': 156,\n",
       " 'Senior Product Marketing Manager': 157,\n",
       " 'Senior Project Coordinator': 158,\n",
       " 'Senior Project Engineer': 159,\n",
       " 'Senior Project Manager': 160,\n",
       " 'Senior Quality Assurance Analyst': 161,\n",
       " 'Senior Research Scientist': 162,\n",
       " 'Senior Researcher': 163,\n",
       " 'Senior Sales Manager': 164,\n",
       " 'Senior Sales Representative': 165,\n",
       " 'Senior Scientist': 166,\n",
       " 'Senior Software Architect': 167,\n",
       " 'Senior Software Developer': 168,\n",
       " 'Senior Software Engineer': 169,\n",
       " 'Senior Training Specialist': 170,\n",
       " 'Senior UX Designer': 171,\n",
       " 'Social M': 172,\n",
       " 'Social Media Man': 173,\n",
       " 'Social Media Manager': 174,\n",
       " 'Social Media Specialist': 175,\n",
       " 'Software Developer': 176,\n",
       " 'Software Engineer': 177,\n",
       " 'Software Engineer Manager': 178,\n",
       " 'Software Manager': 179,\n",
       " 'Software Project Manager': 180,\n",
       " 'Strategy Consultant': 181,\n",
       " 'Supply Chain Analyst': 182,\n",
       " 'Supply Chain Manager': 183,\n",
       " 'Technical Recruiter': 184,\n",
       " 'Technical Support Specialist': 185,\n",
       " 'Technical Writer': 186,\n",
       " 'Training Specialist': 187,\n",
       " 'UX Designer': 188,\n",
       " 'UX Researcher': 189,\n",
       " 'Unknown': 190,\n",
       " 'VP of Finance': 191,\n",
       " 'VP of Operations': 192,\n",
       " 'Web Developer': 193}"
      ]
     },
     "execution_count": 30,
     "metadata": {},
     "output_type": "execute_result"
    }
   ],
   "source": [
    "job_title_mapping"
   ]
  },
  {
   "cell_type": "code",
   "execution_count": 31,
   "id": "86cb35c1",
   "metadata": {},
   "outputs": [],
   "source": [
    "# Apply StandardScaler to numerical features\n",
    "numeric_features = ['Age', 'Years of Experience']\n",
    "numeric_transformer = StandardScaler()"
   ]
  },
  {
   "cell_type": "code",
   "execution_count": 32,
   "id": "ceda2ee5",
   "metadata": {},
   "outputs": [],
   "source": [
    "# Combine transformers using ColumnTransformer\n",
    "ct = ColumnTransformer(\n",
    "    transformers=[\n",
    "        ('scaler', numeric_transformer, numeric_features)\n",
    "    ], \n",
    "    remainder='passthrough'\n",
    ")"
   ]
  },
  {
   "cell_type": "markdown",
   "id": "834a734c",
   "metadata": {},
   "source": [
    "## Define features (X) and target variable (y)"
   ]
  },
  {
   "cell_type": "code",
   "execution_count": 33,
   "id": "1a0e2dd5",
   "metadata": {},
   "outputs": [],
   "source": [
    "# Split the data into features (X) and target variable (y)\n",
    "X = dataset[['Age', 'Gender', 'Education Level', 'Job Title', 'Years of Experience']]\n",
    "y = dataset['Salary']"
   ]
  },
  {
   "cell_type": "code",
   "execution_count": 34,
   "id": "bb7d060b",
   "metadata": {},
   "outputs": [],
   "source": [
    "# Split the data into training and testing sets\n",
    "X_train, X_test, y_train, y_test = train_test_split(X, y, test_size = 0.25, random_state = 0)"
   ]
  },
  {
   "cell_type": "code",
   "execution_count": 35,
   "id": "acdac7b0",
   "metadata": {},
   "outputs": [],
   "source": [
    "# Apply transformations to the training set\n",
    "X_train = ct.fit_transform(X_train)"
   ]
  },
  {
   "cell_type": "code",
   "execution_count": 36,
   "id": "a70dae41",
   "metadata": {},
   "outputs": [],
   "source": [
    "# Apply the same transformations to the test set\n",
    "X_test = ct.transform(X_test)"
   ]
  },
  {
   "cell_type": "code",
   "execution_count": 37,
   "id": "d140fbde",
   "metadata": {},
   "outputs": [],
   "source": [
    "# Initialize the model\n",
    "model = RandomForestRegressor(random_state=0)"
   ]
  },
  {
   "cell_type": "code",
   "execution_count": 38,
   "id": "7ddb52f5",
   "metadata": {},
   "outputs": [
    {
     "data": {
      "text/html": [
       "<style>#sk-container-id-2 {color: black;}#sk-container-id-2 pre{padding: 0;}#sk-container-id-2 div.sk-toggleable {background-color: white;}#sk-container-id-2 label.sk-toggleable__label {cursor: pointer;display: block;width: 100%;margin-bottom: 0;padding: 0.3em;box-sizing: border-box;text-align: center;}#sk-container-id-2 label.sk-toggleable__label-arrow:before {content: \"▸\";float: left;margin-right: 0.25em;color: #696969;}#sk-container-id-2 label.sk-toggleable__label-arrow:hover:before {color: black;}#sk-container-id-2 div.sk-estimator:hover label.sk-toggleable__label-arrow:before {color: black;}#sk-container-id-2 div.sk-toggleable__content {max-height: 0;max-width: 0;overflow: hidden;text-align: left;background-color: #f0f8ff;}#sk-container-id-2 div.sk-toggleable__content pre {margin: 0.2em;color: black;border-radius: 0.25em;background-color: #f0f8ff;}#sk-container-id-2 input.sk-toggleable__control:checked~div.sk-toggleable__content {max-height: 200px;max-width: 100%;overflow: auto;}#sk-container-id-2 input.sk-toggleable__control:checked~label.sk-toggleable__label-arrow:before {content: \"▾\";}#sk-container-id-2 div.sk-estimator input.sk-toggleable__control:checked~label.sk-toggleable__label {background-color: #d4ebff;}#sk-container-id-2 div.sk-label input.sk-toggleable__control:checked~label.sk-toggleable__label {background-color: #d4ebff;}#sk-container-id-2 input.sk-hidden--visually {border: 0;clip: rect(1px 1px 1px 1px);clip: rect(1px, 1px, 1px, 1px);height: 1px;margin: -1px;overflow: hidden;padding: 0;position: absolute;width: 1px;}#sk-container-id-2 div.sk-estimator {font-family: monospace;background-color: #f0f8ff;border: 1px dotted black;border-radius: 0.25em;box-sizing: border-box;margin-bottom: 0.5em;}#sk-container-id-2 div.sk-estimator:hover {background-color: #d4ebff;}#sk-container-id-2 div.sk-parallel-item::after {content: \"\";width: 100%;border-bottom: 1px solid gray;flex-grow: 1;}#sk-container-id-2 div.sk-label:hover label.sk-toggleable__label {background-color: #d4ebff;}#sk-container-id-2 div.sk-serial::before {content: \"\";position: absolute;border-left: 1px solid gray;box-sizing: border-box;top: 0;bottom: 0;left: 50%;z-index: 0;}#sk-container-id-2 div.sk-serial {display: flex;flex-direction: column;align-items: center;background-color: white;padding-right: 0.2em;padding-left: 0.2em;position: relative;}#sk-container-id-2 div.sk-item {position: relative;z-index: 1;}#sk-container-id-2 div.sk-parallel {display: flex;align-items: stretch;justify-content: center;background-color: white;position: relative;}#sk-container-id-2 div.sk-item::before, #sk-container-id-2 div.sk-parallel-item::before {content: \"\";position: absolute;border-left: 1px solid gray;box-sizing: border-box;top: 0;bottom: 0;left: 50%;z-index: -1;}#sk-container-id-2 div.sk-parallel-item {display: flex;flex-direction: column;z-index: 1;position: relative;background-color: white;}#sk-container-id-2 div.sk-parallel-item:first-child::after {align-self: flex-end;width: 50%;}#sk-container-id-2 div.sk-parallel-item:last-child::after {align-self: flex-start;width: 50%;}#sk-container-id-2 div.sk-parallel-item:only-child::after {width: 0;}#sk-container-id-2 div.sk-dashed-wrapped {border: 1px dashed gray;margin: 0 0.4em 0.5em 0.4em;box-sizing: border-box;padding-bottom: 0.4em;background-color: white;}#sk-container-id-2 div.sk-label label {font-family: monospace;font-weight: bold;display: inline-block;line-height: 1.2em;}#sk-container-id-2 div.sk-label-container {text-align: center;}#sk-container-id-2 div.sk-container {/* jupyter's `normalize.less` sets `[hidden] { display: none; }` but bootstrap.min.css set `[hidden] { display: none !important; }` so we also need the `!important` here to be able to override the default hidden behavior on the sphinx rendered scikit-learn.org. See: https://github.com/scikit-learn/scikit-learn/issues/21755 */display: inline-block !important;position: relative;}#sk-container-id-2 div.sk-text-repr-fallback {display: none;}</style><div id=\"sk-container-id-2\" class=\"sk-top-container\"><div class=\"sk-text-repr-fallback\"><pre>RandomForestRegressor(random_state=0)</pre><b>In a Jupyter environment, please rerun this cell to show the HTML representation or trust the notebook. <br />On GitHub, the HTML representation is unable to render, please try loading this page with nbviewer.org.</b></div><div class=\"sk-container\" hidden><div class=\"sk-item\"><div class=\"sk-estimator sk-toggleable\"><input class=\"sk-toggleable__control sk-hidden--visually\" id=\"sk-estimator-id-2\" type=\"checkbox\" checked><label for=\"sk-estimator-id-2\" class=\"sk-toggleable__label sk-toggleable__label-arrow\">RandomForestRegressor</label><div class=\"sk-toggleable__content\"><pre>RandomForestRegressor(random_state=0)</pre></div></div></div></div></div>"
      ],
      "text/plain": [
       "RandomForestRegressor(random_state=0)"
      ]
     },
     "execution_count": 38,
     "metadata": {},
     "output_type": "execute_result"
    }
   ],
   "source": [
    "# Train the model\n",
    "model.fit(X_train, y_train)"
   ]
  },
  {
   "cell_type": "code",
   "execution_count": 39,
   "id": "ae861c84",
   "metadata": {},
   "outputs": [],
   "source": [
    "# Make predictions on the test set\n",
    "y_pred = model.predict(X_test)"
   ]
  },
  {
   "cell_type": "code",
   "execution_count": 40,
   "id": "a0cc933d",
   "metadata": {},
   "outputs": [
    {
     "name": "stdout",
     "output_type": "stream",
     "text": [
      "Mean Squared Error: 64943748.932206094\n"
     ]
    }
   ],
   "source": [
    "# Evaluate the model\n",
    "mse = mean_squared_error(y_test, y_pred)\n",
    "print(f'Mean Squared Error: {mse}')"
   ]
  },
  {
   "cell_type": "code",
   "execution_count": 41,
   "id": "b95ffe26",
   "metadata": {},
   "outputs": [
    {
     "name": "stdout",
     "output_type": "stream",
     "text": [
      "Mean Absolute Error: 3120.8227296767195\n",
      "R-squared: 0.9766046139072069\n"
     ]
    }
   ],
   "source": [
    "mae = mean_absolute_error(y_test, y_pred)\n",
    "r2 = r2_score(y_test, y_pred)\n",
    "print(f'Mean Absolute Error: {mae}')\n",
    "print(f'R-squared: {r2}')"
   ]
  },
  {
   "cell_type": "code",
   "execution_count": 51,
   "id": "12cea20f",
   "metadata": {},
   "outputs": [
    {
     "data": {
      "text/plain": [
       "['/Users/ruhuanliao/Fall 2023/AI/PredictProject/Archive/SalaryPrediction.pkl']"
      ]
     },
     "execution_count": 51,
     "metadata": {},
     "output_type": "execute_result"
    }
   ],
   "source": [
    "joblib.dump(model, '/Users/ruhuanliao/Fall 2023/AI/PredictProject/Archive/SalaryPrediction.pkl')"
   ]
  },
  {
   "cell_type": "code",
   "execution_count": null,
   "id": "e5808acc",
   "metadata": {},
   "outputs": [],
   "source": []
  }
 ],
 "metadata": {
  "kernelspec": {
   "display_name": "Python 3 (ipykernel)",
   "language": "python",
   "name": "python3"
  },
  "language_info": {
   "codemirror_mode": {
    "name": "ipython",
    "version": 3
   },
   "file_extension": ".py",
   "mimetype": "text/x-python",
   "name": "python",
   "nbconvert_exporter": "python",
   "pygments_lexer": "ipython3",
   "version": "3.11.4"
  }
 },
 "nbformat": 4,
 "nbformat_minor": 5
}
